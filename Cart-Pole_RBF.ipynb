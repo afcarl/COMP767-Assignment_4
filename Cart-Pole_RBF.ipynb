{
 "cells": [
  {
   "cell_type": "code",
   "execution_count": 1,
   "metadata": {},
   "outputs": [],
   "source": [
    "# Inspired by https://github.com/dennybritz/reinforcement-learning\n",
    "import gym\n",
    "import os\n",
    "import sys\n",
    "import numpy as np\n",
    "import matplotlib.pyplot as plt\n",
    "from gym import wrappers\n",
    "from datetime import datetime\n",
    "from sklearn.pipeline import FeatureUnion\n",
    "from sklearn.preprocessing import StandardScaler\n",
    "from sklearn.kernel_approximation import RBFSampler\n",
    "%matplotlib inline"
   ]
  },
  {
   "cell_type": "code",
   "execution_count": 2,
   "metadata": {
    "collapsed": true
   },
   "outputs": [],
   "source": [
    "def plot_running_avg(totalrewards):\n",
    "    N = len(totalrewards)\n",
    "    running_avg = np.empty(N)\n",
    "    for t in range(N):\n",
    "        running_avg[t] = totalrewards[max(0, t-100):(t+1)].mean()\n",
    "    plt.plot(running_avg)\n",
    "    plt.title(\"Running Average\")\n",
    "    plt.show()"
   ]
  },
  {
   "cell_type": "code",
   "execution_count": 3,
   "metadata": {
    "collapsed": true
   },
   "outputs": [],
   "source": [
    "class SGDRegressor:\n",
    "    def __init__(self, D):\n",
    "        self.w = np.random.randn(D) / np.sqrt(D)\n",
    "        self.lr = 0.1\n",
    "    def partial_fit(self, X, Y):\n",
    "        self.w += self.lr*(Y - X.dot(self.w)).dot(X)\n",
    "\n",
    "    def predict(self, X):\n",
    "        return X.dot(self.w)"
   ]
  },
  {
   "cell_type": "code",
   "execution_count": 4,
   "metadata": {
    "collapsed": true
   },
   "outputs": [],
   "source": [
    "class FeatureTransformer:\n",
    "    def __init__(self, env):\n",
    "        # observation_examples = np.array([env.observation_space.sample() for x in range(10000)])\n",
    "        # NOTE!! state samples are poor, b/c you get velocities --> infinity\n",
    "        observation_examples = np.random.random((20000, 4))*2 - 1\n",
    "        scaler = StandardScaler()\n",
    "        scaler.fit(observation_examples)\n",
    "\n",
    "        # Used to converte a state to a featurizes represenation.\n",
    "        # We use RBF kernels with different variances to cover different parts of the space\n",
    "        featurizer = FeatureUnion([\n",
    "                (\"rbf1\", RBFSampler(gamma=0.05, n_components=1000)),\n",
    "                (\"rbf2\", RBFSampler(gamma=1.0, n_components=1000)),\n",
    "                (\"rbf3\", RBFSampler(gamma=0.5, n_components=1000)),\n",
    "                (\"rbf4\", RBFSampler(gamma=0.1, n_components=1000))\n",
    "                ])\n",
    "        feature_examples = featurizer.fit_transform(scaler.transform(observation_examples))\n",
    "\n",
    "        self.dimensions = feature_examples.shape[1]\n",
    "        self.scaler = scaler\n",
    "        self.featurizer = featurizer\n",
    "\n",
    "    def transform(self, observations):\n",
    "        scaled = self.scaler.transform(observations)\n",
    "        return self.featurizer.transform(scaled)"
   ]
  },
  {
   "cell_type": "code",
   "execution_count": 5,
   "metadata": {
    "collapsed": true
   },
   "outputs": [],
   "source": [
    "# Holds one SGDRegressor for each action\n",
    "class Model:\n",
    "    def __init__(self, env, feature_transformer):\n",
    "        self.env = env\n",
    "        self.models = []\n",
    "        self.feature_transformer = feature_transformer\n",
    "        for i in range(env.action_space.n):\n",
    "            model = SGDRegressor(feature_transformer.dimensions)\n",
    "            self.models.append(model)\n",
    "\n",
    "    def predict(self, s):\n",
    "        X = self.feature_transformer.transform(np.atleast_2d(s))\n",
    "        result = np.stack([m.predict(X) for m in self.models]).T\n",
    "        return result\n",
    "    \n",
    "    def update(self, s, a, G):\n",
    "        X = self.feature_transformer.transform(np.atleast_2d(s))\n",
    "        self.models[a].partial_fit(X, [G])\n",
    "\n",
    "    def sample_action(self, s, eps):\n",
    "        if np.random.random() < eps:\n",
    "              return self.env.action_space.sample()\n",
    "        else:\n",
    "              return np.argmax(self.predict(s))"
   ]
  },
  {
   "cell_type": "code",
   "execution_count": 6,
   "metadata": {},
   "outputs": [],
   "source": [
    "def play_one(env, model, eps, gamma):\n",
    "    observation = env.reset()\n",
    "    done = False\n",
    "    totalreward = 0\n",
    "    iters = 0\n",
    "    while not done and iters < 2000:\n",
    "        # if we reach 2000, just quit, don't want this going forever\n",
    "        # the 200 limit seems a bit early\n",
    "        action = model.sample_action(observation, eps)\n",
    "        prev_observation = observation\n",
    "        observation, reward, done, info = env.step(action)\n",
    "\n",
    "        if done:\n",
    "            reward = -200\n",
    "\n",
    "    # update the model\n",
    "        next = model.predict(observation)\n",
    "        # print(next.shape)\n",
    "        assert(next.shape == (1, env.action_space.n))\n",
    "        G = reward + gamma*np.max(next)\n",
    "        model.update(prev_observation, action, G)\n",
    "\n",
    "        if reward == 1: # if we changed the reward to -200\n",
    "            totalreward += reward\n",
    "        iters += 1\n",
    "\n",
    "    return totalreward"
   ]
  },
  {
   "cell_type": "code",
   "execution_count": 7,
   "metadata": {
    "collapsed": true
   },
   "outputs": [],
   "source": [
    "def main():\n",
    "    env = gym.make('CartPole-v0')\n",
    "    ft = FeatureTransformer(env)\n",
    "    model = Model(env, ft)\n",
    "    gamma = 0.99\n",
    "\n",
    "    if 'monitor' in sys.argv:\n",
    "        filename = os.path.basename(__file__).split('.')[0]\n",
    "        monitor_dir = './' + filename + '_' + str(datetime.now())\n",
    "        env = wrappers.Monitor(env, monitor_dir)\n",
    "\n",
    "\n",
    "    N = 700\n",
    "    totalrewards = np.empty(N)\n",
    "    costs = np.empty(N)\n",
    "    for n in range(N):\n",
    "        eps = 1.0/np.sqrt(n+1)\n",
    "        totalreward = play_one(env, model, eps, gamma)\n",
    "        totalrewards[n] = totalreward\n",
    "        if n % 100 == 0:\n",
    "            print(\"episode:\", n, \"total reward:\", totalreward, \"eps:\", eps, \"avg reward (last 100):\", totalrewards[max(0, n-100):(n+1)].mean())\n",
    "\n",
    "    print(\"avg reward for last 100 episodes:\", totalrewards[-100:].mean())\n",
    "    print(\"total steps:\", totalrewards.sum())\n",
    "\n",
    "    plt.plot(totalrewards)\n",
    "    plt.title(\"Rewards\")\n",
    "    plt.show()\n",
    "\n",
    "    plot_running_avg(totalrewards)\n"
   ]
  },
  {
   "cell_type": "code",
   "execution_count": 8,
   "metadata": {},
   "outputs": [
    {
     "name": "stdout",
     "output_type": "stream",
     "text": [
      "\u001b[33mWARN: gym.spaces.Box autodetected dtype as <class 'numpy.float32'>. Please provide explicit dtype.\u001b[0m\n",
      "episode: 0 total reward: 11.0 eps: 1.0 avg reward (last 100): 11.0\n",
      "episode: 100 total reward: 199.0 eps: 0.099503719021 avg reward (last 100): 99.5148514851\n",
      "episode: 200 total reward: 147.0 eps: 0.0705345615859 avg reward (last 100): 142.069306931\n",
      "episode: 300 total reward: 93.0 eps: 0.0576390417704 avg reward (last 100): 179.910891089\n",
      "episode: 400 total reward: 146.0 eps: 0.0499376169439 avg reward (last 100): 156.95049505\n",
      "episode: 500 total reward: 155.0 eps: 0.0446767051609 avg reward (last 100): 164.138613861\n",
      "episode: 600 total reward: 193.0 eps: 0.0407908508224 avg reward (last 100): 186.128712871\n",
      "avg reward for last 100 episodes: 184.32\n",
      "total steps: 111299.0\n"
     ]
    },
    {
     "data": {
      "image/png": "[encoded data removed]",
      "text/plain": [
       "<matplotlib.figure.Figure at 0x116bc2860>"
      ]
     },
     "metadata": {},
     "output_type": "display_data"
    },
    {
     "data": {
      "image/png": "[encoded data removed]",
      "text/plain": [
       "<matplotlib.figure.Figure at 0x104025cf8>"
      ]
     },
     "metadata": {},
     "output_type": "display_data"
    }
   ],
   "source": [
    "main()"
   ]
  },
  {
   "cell_type": "markdown",
   "metadata": {},
   "source": [
    "## Approach :\n",
    "  The previous implementations of KBRL are unable to converge thus we now move to a different choice of kernel and method of implementation. We decide to use the Radial Basis Function (RBF) kernel.\n",
    "  \n",
    "  The RBF kernel model can be thought of as a linear  model with feature extraction where the feature extractor is a RBF kernel.\n",
    "  \n",
    "  Mathematically the RBF kernel can be expressed as:\n",
    "  $$\\phi (x)=exp(-\\frac{||x-c||^{2}}{\\sigma^{2}})$$\n",
    "  \n",
    "  where:\n",
    "         $x$= input vector\n",
    "         $c$ = center or exemplar vector\n",
    "         $\\sigma$ = scale parameter.\n",
    "         \n",
    "  Note that $c$ is a hyper-parameter and needs to be found by experimentation.\n",
    "  \n",
    "  We use the RBF-sampler from scikit-learn and sample from the state space to train a linear regresor to learns its feature.\n",
    "  \n",
    "  Since we are not sure which scale parameter $\\sigma$ is good we use multiple RBF kernels with different scale parameters. We also use one step of a gradient descent to integrate it with the Q learning mechanism.\n",
    "  \n",
    "Another implementation detail worth noting is that we only extract the features from the state $s$ and learn a different linear-model for each action which will give us the Q value for a different action.\n",
    "\n",
    "We use the partial_fit function from scikit learn library which implements one step gradient descent. Note that one complication in this implenetation is that since we are using Q-Learning we need to predict  $\\underset{a}{max}\\> Q(s,a)$ hence, we need to make a prediction before using the fit funtion. Thus one workaround for this issue is calling the partial fit funtion on dummy values.\n"
   ]
  },
  {
   "cell_type": "code",
   "execution_count": null,
   "metadata": {
    "collapsed": true
   },
   "outputs": [],
   "source": []
  }
 ],
 "metadata": {
  "anaconda-cloud": {},
  "kernelspec": {
   "display_name": "Python [conda env:py3k]",
   "language": "python",
   "name": "conda-env-py3k-py"
  },
  "language_info": {
   "codemirror_mode": {
    "name": "ipython",
    "version": 3
   },
   "file_extension": ".py",
   "mimetype": "text/x-python",
   "name": "python",
   "nbconvert_exporter": "python",
   "pygments_lexer": "ipython3",
   "version": "3.5.2"
  }
 },
 "nbformat": 4,
 "nbformat_minor": 1
}
