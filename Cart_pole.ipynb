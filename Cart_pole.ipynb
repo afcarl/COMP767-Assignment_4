{
 "cells": [
  {
   "cell_type": "code",
   "execution_count": 1,
   "metadata": {
    "collapsed": true
   },
   "outputs": [],
   "source": [
    "import gym\n",
    "import numpy as np \n",
    "import matplotlib.pyplot as plt\n",
    "from sklearn.neighbors import NearestNeighbors\n",
    "from collections import deque,defaultdict\n",
    "import itertools\n",
    "from scipy.special import expit\n",
    "%matplotlib inline"
   ]
  },
  {
   "cell_type": "code",
   "execution_count": 2,
   "metadata": {},
   "outputs": [
    {
     "name": "stdout",
     "output_type": "stream",
     "text": [
      "\u001b[33mWARN: gym.spaces.Box autodetected dtype as <class 'numpy.float32'>. Please provide explicit dtype.\u001b[0m\n",
      "Number of actions:  2\n",
      "State space: [array([ -4.80000019e+00,  -3.40282347e+38,  -4.18879032e-01,\n",
      "        -3.40282347e+38], dtype=float32), array([  4.80000019e+00,   3.40282347e+38,   4.18879032e-01,\n",
      "         3.40282347e+38], dtype=float32)]\n"
     ]
    }
   ],
   "source": [
    "env = gym.make('CartPole-v0')\n",
    "env.reset()\n",
    "num_actions = env.action_space.n\n",
    "print('Number of actions: ', num_actions)\n",
    "state_low = env.observation_space.low\n",
    "state_high = env.observation_space.high\n",
    "print('State space:', [state_low, state_high])"
   ]
  },
  {
   "cell_type": "code",
   "execution_count": 3,
   "metadata": {
    "collapsed": true
   },
   "outputs": [],
   "source": [
    "#Parameter initialization\n",
    "epsilon = 0.5\n",
    "γ= 0.95\n",
    "α = 0.1\n",
    "done_penalty = -10.0 #For CartPole\n",
    "\n",
    "smoothing_value = 0.1\n",
    "#max_steps = 10000\n",
    "max_len_hist = 20000\n",
    "number_of_neighbours = max_len_hist\n",
    "state_hist = dict([[i,deque(maxlen=max_len_hist)] for i in range(env.action_space.n)])\n",
    "srs_hist = dict([[i,deque(maxlen=max_len_hist)] for i in range(env.action_space.n)])\n",
    "\n",
    "#Start of learning loop"
   ]
  },
  {
   "cell_type": "code",
   "execution_count": 4,
   "metadata": {
    "collapsed": true
   },
   "outputs": [],
   "source": [
    "s_ini = env.reset()\n",
    "returns_episode = []\n",
    "returns_episode_i = 0.0\n",
    "episode_len = 0\n",
    "for steps in range(max_len_hist):\n",
    "    episode_len += 1\n",
    "    #Taking a step in the environment\n",
    "    \n",
    "    action = np.random.choice(env.action_space.n)\n",
    "    s_next, reward, done ,_ = env.step(action)  \n",
    "    #Computing return and updating memory\n",
    "    #returns_episode_i += reward \n",
    "    if not done:\n",
    "        srs_hist[action].append([s_ini,reward,s_next]) \n",
    "        state_hist[action].append(s_ini)\n",
    "        s_ini = s_next\n",
    "    else:\n",
    "        srs_hist[action].append([s_ini,reward,s_next]) \n",
    "        state_hist[action].append(s_ini)\n",
    "        if episode_len < 199: #Gym Specific, since 200 is forced termination\n",
    "            srs_hist[action].append([s_next,done_penalty,'done']) \n",
    "            state_hist[action].append(s_next)\n",
    "        s_ini = env.reset()\n",
    "        episode_len = 0"
   ]
  },
  {
   "cell_type": "code",
   "execution_count": 5,
   "metadata": {},
   "outputs": [
    {
     "name": "stderr",
     "output_type": "stream",
     "text": [
      "/home/sre/gandharv/.local/lib/python3.5/site-packages/ipykernel_launcher.py:12: FutureWarning: elementwise comparison failed; returning scalar instead, but in the future will perform elementwise comparison\n",
      "  if sys.path[0] == '':\n"
     ]
    }
   ],
   "source": [
    "ks_a=dict([[i,deque(maxlen=max_len_hist)] for i in range(env.action_space.n)])\n",
    "indices = [0] + list(np.cumsum([len(state_hist[i]) for i in range(env.action_space.n)]))[:-1]\n",
    "all_states = list(itertools.chain(*[list(state_hist[i]) for i in range(env.action_space.n)]))\n",
    "all_srs = list(itertools.chain(*[list(srs_hist[i]) for i in range(env.action_space.n)]))\n",
    "P = [np.zeros((len(all_states),len(all_states))) for _ in range(env.action_space.n)]\n",
    "R = [np.zeros(len(all_states)) for _ in range(env.action_space.n)]\n",
    "for a in range(env.action_space.n):\n",
    "    neigh = NearestNeighbors(n_neighbors=min(number_of_neighbours, len(state_hist[a])))\n",
    "    ks_a[a] = neigh.fit([i.tolist() for i in state_hist[a]]) \n",
    "    for i in range(len(all_states)):\n",
    "        sprime = all_srs[i][2]\n",
    "        if sprime != 'done':\n",
    "            info = ks_a[a].kneighbors(sprime.reshape(1,-1))\n",
    "#             weights = expit(info[0][0])\n",
    "            weights = 1.0/(info[0][0]+smoothing_value)\n",
    "            weights /= weights.sum()\n",
    "            index_i = [j+indices[a] for j in info[1][0]]\n",
    "            P[a][i][index_i]= weights\n",
    "            R[a][i] = np.sum(P[a][i][index_i]*np.array([k[1] for k in np.array(all_srs)[index_i]]))\n",
    "        else:\n",
    "            P[a][i][i] = 1.0"
   ]
  },
  {
   "cell_type": "code",
   "execution_count": 6,
   "metadata": {
    "collapsed": true
   },
   "outputs": [],
   "source": [
    "def VI(P_all, R_all, gamma, tau = 1e-10):\n",
    "    V = np.zeros(P_all.shape[1])\n",
    "    for i in range(1000):\n",
    "        V_old = np.copy(V)\n",
    "        Q = R_all + gamma*np.dot(P_all, V).reshape(R_all.shape, order='F')\n",
    "        V = np.max(Q, axis=1)\n",
    "        policy = np.argmax(R_all + gamma*np.dot(P_all, V).reshape(R_all.shape, order='F'), axis=1)\n",
    "        error = np.linalg.norm(V-V_old, 2)\n",
    "        if error < tau:\n",
    "            print('Converged after {:} iterations with error {:}'.format(i+1, error))\n",
    "            break\n",
    "    #print('Optimal Values:',V)\n",
    "    #print('Optimal Policy:',policy)\n",
    "    return Q"
   ]
  },
  {
   "cell_type": "code",
   "execution_count": 7,
   "metadata": {},
   "outputs": [
    {
     "name": "stdout",
     "output_type": "stream",
     "text": [
      "Converged after 362 iterations with error 9.856000117776389e-11\n"
     ]
    }
   ],
   "source": [
    "Q = VI(np.concatenate(P, axis=0), np.array(R).T, γ)"
   ]
  },
  {
   "cell_type": "code",
   "execution_count": 8,
   "metadata": {},
   "outputs": [
    {
     "name": "stderr",
     "output_type": "stream",
     "text": [
      "/home/sre/gandharv/.local/lib/python3.5/site-packages/ipykernel_launcher.py:25: FutureWarning: elementwise comparison failed; returning scalar instead, but in the future will perform elementwise comparison\n"
     ]
    }
   ],
   "source": [
    "γ= 0.95\n",
    "number_of_neighbours = 20\n",
    "smoothing_value = 0.1\n",
    "max_steps = 2000\n",
    "\n",
    "#Start of learning loop\n",
    "s_ini = env.reset()\n",
    "returns_episode = []\n",
    "returns_episode_i = 0.0\n",
    "\n",
    "for steps in range(max_steps): \n",
    "    #Taking a step in the environment\n",
    "    q = np.zeros(env.action_space.n)\n",
    "    for a in range(env.action_space.n):\n",
    "        #compute weights\n",
    "        info = ks_a[a].kneighbors(s_ini.reshape(1,-1))[:number_of_neighbours]\n",
    "        weights = 1.0/(info[0][0]+smoothing_value)\n",
    "        weights /= weights.sum()\n",
    "        #compute q_targets for each neighbour\n",
    "        q_target = 0.0\n",
    "        for i in range(len(weights)):\n",
    "            nbr = info[1][0][i]\n",
    "            r = srs_hist[a][nbr][1]\n",
    "            sprime = srs_hist[a][nbr][2]\n",
    "            if sprime != 'done':\n",
    "                q_target += weights[i]*(r+γ*Q[nbr+indices[a]].max())\n",
    "            else:\n",
    "                q_target += weights[i]*(r)\n",
    "        #compute bellman update and assign it to q\n",
    "        q[a] = q_target\n",
    "    action = np.argmax(q)\n",
    "    s_next, reward, done ,_ = env.step(action)\n",
    "    \n",
    "    #Computing return\n",
    "    returns_episode_i += reward\n",
    "    if not done:\n",
    "        s_ini = s_next\n",
    "    else:\n",
    "        s_ini = env.reset()\n",
    "        returns_episode.append(returns_episode_i)\n",
    "        returns_episode_i = 0.0"
   ]
  },
  {
   "cell_type": "code",
   "execution_count": 13,
   "metadata": {},
   "outputs": [
    {
     "data": {
      "text/plain": [
       "Text(0.5,0,'Episode')"
      ]
     },
     "execution_count": 13,
     "metadata": {},
     "output_type": "execute_result"
    },
    {
     "data": {
      "image/png": "[encoded data removed]",
      "text/plain": [
       "<Figure size 432x288 with 1 Axes>"
      ]
     },
     "metadata": {},
     "output_type": "display_data"
    }
   ],
   "source": [
    "plt.plot(returns_episode)\n",
    "plt.ylabel('Return')\n",
    "plt.xlabel('Episode')"
   ]
  },
  {
   "cell_type": "markdown",
   "metadata": {
    "collapsed": true
   },
   "source": [
    "## Approach :\n",
    " As per the instructions for the assignment we have implemented the Kernel Based Reinforement learning(KBRL) paper by  Ormoneit and Sen, 2002 for two gym environments with continuous state space and discrete action space. \n",
    "\n",
    "KBRL is a batch algorithm that uses kernel methods for getting a finite approximation for solving continuous MDPs. The authors hypothesize that approximation of transition probablities $P_{a}^{ss'}$ can be obtained using previous experience of acting in the environment. In order to do this, we first group the transitions per action such that $S^{a}=(s_{i}^{a},r_{i}^{a},\\hat{s_{i}^{a}}| i = 1,..,a)$ are sample transitions per action $a$ $\\forall a \\in A$\n",
    "\n",
    "We then use a normalized kernel function given by:$$K^{a}_{\\tau} (s,s^{a}_{i}) = \\frac{k_{\\tau}(s,s_{i}^{a})}{\\sum_{j = 1}^{n_{a}}k_{\\tau}(s,s_{j}^{a})}$$ Thus the transition matrix of the KBRL model then turns out as: \n",
    "$$\\hat{P}^{a}(\\hat{s}_{i}^{b}|s) \\quad = \\left\\{\\begin{matrix}k_{\\tau}(s,s_{i}^{b})  \\quad if \\quad b = a \\\\ 0 , \\quad otherwise\n",
    "\\end{matrix}\\right.$$\n",
    "\n",
    "Similarly the reward functions are given by: \n",
    "$$\\hat{R}^{a}(s, \\hat{s}_{i}^{b}) \\quad = \\left\\{\\begin{matrix}r^{a}_{i}  \\quad if \\quad b = a \\\\ 0 , \\quad otherwise\n",
    "\\end{matrix}\\right.$$\n",
    "\n",
    "Finally we obtain the finite state MDP given by $M = (\\hat{S},A,\\hat{P}^{a},\\hat{r}^{a},\\gamma)$. Since we have the access this MDP, we can then calucate the Value Function $V^{*}(s)$ using dynamic programming and use the value function to calcuate  state value function of the continuous MDP as suggested by Ormoneit and Sen, 2002 $$ \\hat{Q}(s,a)  = \\sum_{i=1}^{n_{a}}k^{a}_{\\tau} (s,s^{a}_{i})[r_{i}^{a} + \\gamma V^{*}(\\hat{s}_{i}^{a})]\n",
    "$$\n",
    "\n",
    "\n",
    " "
   ]
  },
  {
   "cell_type": "markdown",
   "metadata": {
    "collapsed": true
   },
   "source": [
    "## Disucssion:\n",
    " We tested the KBRL algorithm for the cartpole environment in open-ai gym. From the results we can see that, we obtain a maximum reward of 90 for a history length of 10000 steps. The algorithm also runs only for 60 episodes due to finite computation power avalaible with us. Since the experience availaible with us less our algorithm doesnt learn a proper of model of the environment resulting in suboptimal performance.\n",
    " \n",
    " This is one of the limitation of the KBRL algorithm discussed by Barreto, Precup and Pineau,2016 in their paper \"Practical Kernel-Based Reinforcement Learning\". In this paper Barreto et al. also propose a computationally efficient way of implementing kernel based reinforcement learning using stochastic factorization. "
   ]
  }
 ],
 "metadata": {
  "kernelspec": {
   "display_name": "RL",
   "language": "python",
   "name": "rl"
  },
  "language_info": {
   "codemirror_mode": {
    "name": "ipython",
    "version": 3
   },
   "file_extension": ".py",
   "mimetype": "text/x-python",
   "name": "python",
   "nbconvert_exporter": "python",
   "pygments_lexer": "ipython3",
   "version": "3.5.5"
  }
 },
 "nbformat": 4,
 "nbformat_minor": 2
}
