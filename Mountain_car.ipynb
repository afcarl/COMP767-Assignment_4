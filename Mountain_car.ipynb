{
 "cells": [
  {
   "cell_type": "code",
   "execution_count": 1,
   "metadata": {
    "collapsed": true
   },
   "outputs": [],
   "source": [
    "import gym\n",
    "import numpy as np \n",
    "import matplotlib.pyplot as plt\n",
    "from sklearn.neighbors import NearestNeighbors\n",
    "from collections import deque,defaultdict\n",
    "import itertools\n",
    "%matplotlib inline"
   ]
  },
  {
   "cell_type": "code",
   "execution_count": 2,
   "metadata": {},
   "outputs": [
    {
     "name": "stdout",
     "output_type": "stream",
     "text": [
      "\u001b[33mWARN: gym.spaces.Box autodetected dtype as <class 'numpy.float32'>. Please provide explicit dtype.\u001b[0m\n",
      "Number of actions:  3\n",
      "State space: [array([-1.20000005, -0.07      ], dtype=float32), array([ 0.60000002,  0.07      ], dtype=float32)]\n"
     ]
    }
   ],
   "source": [
    "env = gym.make('MountainCar-v0')\n",
    "env.reset()\n",
    "num_actions = env.action_space.n\n",
    "print('Number of actions: ', num_actions)\n",
    "state_low = env.observation_space.low\n",
    "state_high = env.observation_space.high\n",
    "print('State space:', [state_low, state_high])"
   ]
  },
  {
   "cell_type": "code",
   "execution_count": 3,
   "metadata": {
    "collapsed": true
   },
   "outputs": [],
   "source": [
    "#Parameter initialization\n",
    "epsilon = 0.5\n",
    "γ= 0.95\n",
    "α = 0.1\n",
    "done_penalty = -10.0 #For CartPole\n",
    "\n",
    "smoothing_value = 0.1\n",
    "#max_steps = 10000\n",
    "max_len_hist = 20000\n",
    "number_of_neighbours = max_len_hist\n",
    "state_hist = dict([[i,deque(maxlen=max_len_hist)] for i in range(env.action_space.n)])\n",
    "srs_hist = dict([[i,deque(maxlen=max_len_hist)] for i in range(env.action_space.n)])\n",
    "\n",
    "#Start of learning loop"
   ]
  },
  {
   "cell_type": "code",
   "execution_count": 4,
   "metadata": {
    "collapsed": true
   },
   "outputs": [],
   "source": [
    "s_ini = env.reset()\n",
    "returns_episode = []\n",
    "returns_episode_i = 0.0\n",
    "episode_len = 0\n",
    "for steps in range(max_len_hist):\n",
    "    episode_len += 1\n",
    "    #Taking a step in the environment\n",
    "    #action = np.random.choice([np.random.choice(env.action_space.n),np.argmax(Q_sa[tuple(s_ini)])], p=[epsilon,1-epsilon])\n",
    "    action = np.random.choice(env.action_space.n)\n",
    "    s_next, reward, done ,_ = env.step(action)  \n",
    "    #Computing return and updating memory\n",
    "    #returns_episode_i += reward \n",
    "    if not done:\n",
    "        srs_hist[action].append([s_ini,reward,s_next]) \n",
    "        state_hist[action].append(s_ini)\n",
    "        s_ini = s_next\n",
    "    else:\n",
    "        srs_hist[action].append([s_ini,reward,s_next]) \n",
    "        state_hist[action].append(s_ini)\n",
    "        #if episode_len < 199: #Gym Specific, since 200 is forced termination\n",
    "        #    srs_hist[action].append([s_next,done_penalty,'done']) \n",
    "        #    state_hist[action].append(s_next)\n",
    "        srs_hist[action].append([s_next,done_penalty,'done']) \n",
    "        state_hist[action].append(s_next)\n",
    "        s_ini = env.reset()\n",
    "        episode_len = 0"
   ]
  },
  {
   "cell_type": "code",
   "execution_count": 5,
   "metadata": {},
   "outputs": [
    {
     "name": "stderr",
     "output_type": "stream",
     "text": [
      "/home/sre/gandharv/.local/lib/python3.5/site-packages/ipykernel_launcher.py:12: FutureWarning: elementwise comparison failed; returning scalar instead, but in the future will perform elementwise comparison\n",
      "  if sys.path[0] == '':\n"
     ]
    }
   ],
   "source": [
    "ks_a=dict([[i,deque(maxlen=max_len_hist)] for i in range(env.action_space.n)])\n",
    "indices = [0] + list(np.cumsum([len(state_hist[i]) for i in range(env.action_space.n)]))[:-1]\n",
    "all_states = list(itertools.chain(*[list(state_hist[i]) for i in range(env.action_space.n)]))\n",
    "all_srs = list(itertools.chain(*[list(srs_hist[i]) for i in range(env.action_space.n)]))\n",
    "P = [np.zeros((len(all_states),len(all_states))) for _ in range(env.action_space.n)]\n",
    "R = [np.zeros(len(all_states)) for _ in range(env.action_space.n)]\n",
    "for a in range(env.action_space.n):\n",
    "    neigh = NearestNeighbors(n_neighbors=min(number_of_neighbours, len(state_hist[a])))\n",
    "    ks_a[a] = neigh.fit([i.tolist() for i in state_hist[a]]) \n",
    "    for i in range(len(all_states)):\n",
    "        sprime = all_srs[i][2]\n",
    "        if sprime != 'done':\n",
    "            info = ks_a[a].kneighbors(sprime.reshape(1,-1))\n",
    "            weights = 1.0/(info[0][0]+smoothing_value)\n",
    "            weights /= weights.sum()\n",
    "            index_i = [j+indices[a] for j in info[1][0]]\n",
    "            P[a][i][index_i]= weights\n",
    "            R[a][i] = np.sum(P[a][i][index_i]*np.array([k[1] for k in np.array(all_srs)[index_i]]))\n",
    "        else:\n",
    "            P[a][i][i] = 1.0"
   ]
  },
  {
   "cell_type": "code",
   "execution_count": 6,
   "metadata": {
    "collapsed": true
   },
   "outputs": [],
   "source": [
    "def VI(P_all, R_all, gamma, tau = 1e-10):\n",
    "    V = np.zeros(P_all.shape[1])\n",
    "    for i in range(1000):\n",
    "        V_old = np.copy(V)\n",
    "        Q = R_all + gamma*np.dot(P_all, V).reshape(R_all.shape, order='F')\n",
    "        V = np.max(Q, axis=1)\n",
    "        policy = np.argmax(R_all + gamma*np.dot(P_all, V).reshape(R_all.shape, order='F'), axis=1)\n",
    "        error = np.linalg.norm(V-V_old, 2)\n",
    "        if error < tau:\n",
    "            print('Converged after {:} iterations with error {:}'.format(i+1, error))\n",
    "            break\n",
    "    #print('Optimal Values:',V)\n",
    "    #print('Optimal Policy:',policy)\n",
    "    return Q"
   ]
  },
  {
   "cell_type": "code",
   "execution_count": 7,
   "metadata": {},
   "outputs": [
    {
     "name": "stdout",
     "output_type": "stream",
     "text": [
      "Converged after 499 iterations with error 9.544996434370427e-11\n"
     ]
    }
   ],
   "source": [
    "Q = VI(np.concatenate(P, axis=0), np.array(R).T, γ)"
   ]
  },
  {
   "cell_type": "code",
   "execution_count": 9,
   "metadata": {},
   "outputs": [
    {
     "name": "stderr",
     "output_type": "stream",
     "text": [
      "/home/sre/gandharv/.local/lib/python3.5/site-packages/ipykernel_launcher.py:25: FutureWarning: elementwise comparison failed; returning scalar instead, but in the future will perform elementwise comparison\n"
     ]
    }
   ],
   "source": [
    "γ= 0.95\n",
    "number_of_neighbours = 100\n",
    "smoothing_value = 0.0\n",
    "max_steps = 10000\n",
    "\n",
    "#Start of learning loop\n",
    "s_ini = env.reset()\n",
    "returns_episode = []\n",
    "returns_episode_i = 0.0\n",
    "\n",
    "for steps in range(max_steps): \n",
    "    #Taking a step in the environment\n",
    "    q = np.zeros(env.action_space.n)\n",
    "    for a in range(env.action_space.n):\n",
    "        #compute weights\n",
    "        info = ks_a[a].kneighbors(s_ini.reshape(1,-1))[:number_of_neighbours]\n",
    "        weights = 1.0/(info[0][0]+smoothing_value)\n",
    "        weights /= weights.sum()\n",
    "        #compute q_targets for each neighbour\n",
    "        q_target = 0.0\n",
    "        for i in range(len(weights)):\n",
    "            nbr = info[1][0][i]\n",
    "            r = srs_hist[a][nbr][1]\n",
    "            sprime = srs_hist[a][nbr][2]\n",
    "            if sprime != 'done':\n",
    "                q_target += weights[i]*(r+γ*Q[nbr+indices[a]].max())\n",
    "            else:\n",
    "                q_target += weights[i]*(r)\n",
    "        #compute bellman update and assign it to q\n",
    "        q[a] = q_target\n",
    "    action = np.argmax(q)\n",
    "    s_next, reward, done ,_ = env.step(action)\n",
    "    \n",
    "    #Computing return\n",
    "    returns_episode_i += reward\n",
    "    if not done:\n",
    "        s_ini = s_next\n",
    "    else:\n",
    "        s_ini = env.reset()\n",
    "        returns_episode.append(returns_episode_i)\n",
    "        returns_episode_i = 0.0"
   ]
  },
  {
   "cell_type": "code",
   "execution_count": 11,
   "metadata": {},
   "outputs": [
    {
     "data": {
      "text/plain": [
       "Text(0,0.5,'Return')"
      ]
     },
     "execution_count": 11,
     "metadata": {},
     "output_type": "execute_result"
    },
    {
     "data": {
      "image/png": "[encoded data removed]",
      "text/plain": [
       "<Figure size 432x288 with 1 Axes>"
      ]
     },
     "metadata": {},
     "output_type": "display_data"
    }
   ],
   "source": [
    "plt.plot(returns_episode)\n",
    "plt.xlabel('episodes')\n",
    "plt.ylabel('Return')\n"
   ]
  },
  {
   "cell_type": "markdown",
   "metadata": {
    "collapsed": true
   },
   "source": [
    "## Discussion:\n",
    "\n",
    "Here we implement the KBRL algorithm for the mountain car environment in open-ai gym. As it can be seen from the results, the algorithm as mentioned by Ormoneit and Sen, 2002 doesnt seem to work for this environment. The main reason for this is that the reward signal in this environmemnt is very sparse and the inital model learning is heavily dependent on the portions of the state space the agent visits. As a result the agent fails to learn the model of the environment. To solve this problem using KBRL one can use some domain information like knowing the final state of the environment and letting the agent act in the environment till it reaches the final state. Further we can only retain the the transitions where the agent reached the goal state and try to learn the model using this data and/or use reward shaping."
   ]
  }
 ],
 "metadata": {
  "kernelspec": {
   "display_name": "RL",
   "language": "python",
   "name": "rl"
  },
  "language_info": {
   "codemirror_mode": {
    "name": "ipython",
    "version": 3
   },
   "file_extension": ".py",
   "mimetype": "text/x-python",
   "name": "python",
   "nbconvert_exporter": "python",
   "pygments_lexer": "ipython3",
   "version": "3.5.5"
  }
 },
 "nbformat": 4,
 "nbformat_minor": 2
}
